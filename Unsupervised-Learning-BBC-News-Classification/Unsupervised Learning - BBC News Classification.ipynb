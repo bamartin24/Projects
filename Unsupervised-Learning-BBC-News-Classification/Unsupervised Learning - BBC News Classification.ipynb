{
 "cells": [
  {
   "cell_type": "markdown",
   "id": "b782242b",
   "metadata": {},
   "source": [
    "\n",
    "# Introduction\n",
    "There is a large amount of text based data created at businesses and this data can be highly useful if extracted and modeled correctly. This project will focus on text data, specifically BBC news articles. This is a classification project, each training article is labeled with one of five categories: business, entertainment, politics, sport or tech. We will try to classify the topic of each article based on the words that make up the text of the article. \n",
    "\n",
    "Even though there are labels, we will first attempt to build and train an unsupervised learning model using matrix factorization. Then we will compare those results to supervised learning models. The metric used to evaluate the models will be accuracy. \n",
    "\n",
    "# The Data\n",
    "The dataset comes from Kaggle at this link:https://www.kaggle.com/c/learn-ai-bbc/overview.\n",
    "\n",
    "There are 2,225 articles in the dataset, with 1,490 for training and 735 for testing. \n",
    "\n",
    "We will look more into the properties of the data below:"
   ]
  },
  {
   "cell_type": "code",
   "execution_count": 1,
   "id": "09ea4230",
   "metadata": {},
   "outputs": [],
   "source": [
    "#import all necessary libraries\n",
    "import itertools\n",
    "import pandas as pd\n",
    "import numpy as np\n",
    "import seaborn as sns\n",
    "from sklearn.metrics import accuracy_score\n",
    "from sklearn.feature_extraction.text import TfidfVectorizer\n",
    "from sklearn.decomposition import NMF\n",
    "from sklearn.decomposition import TruncatedSVD\n",
    "import matplotlib.pyplot as plt\n",
    "from sklearn.linear_model import LogisticRegression\n",
    "from sklearn.ensemble import RandomForestClassifier,GradientBoostingClassifier\n",
    "from sklearn.svm import SVC\n",
    "from sklearn.model_selection import cross_val_score, GridSearchCV\n",
    "import math"
   ]
  },
  {
   "cell_type": "code",
   "execution_count": 2,
   "id": "64414c05",
   "metadata": {},
   "outputs": [
    {
     "name": "stdout",
     "output_type": "stream",
     "text": [
      "<class 'pandas.core.frame.DataFrame'>\n",
      "RangeIndex: 735 entries, 0 to 734\n",
      "Data columns (total 2 columns):\n",
      " #   Column     Non-Null Count  Dtype \n",
      "---  ------     --------------  ----- \n",
      " 0   ArticleId  735 non-null    int64 \n",
      " 1   Text       735 non-null    object\n",
      "dtypes: int64(1), object(1)\n",
      "memory usage: 11.6+ KB\n",
      "<class 'pandas.core.frame.DataFrame'>\n",
      "RangeIndex: 1490 entries, 0 to 1489\n",
      "Data columns (total 3 columns):\n",
      " #   Column     Non-Null Count  Dtype \n",
      "---  ------     --------------  ----- \n",
      " 0   ArticleId  1490 non-null   int64 \n",
      " 1   Text       1490 non-null   object\n",
      " 2   Category   1490 non-null   object\n",
      "dtypes: int64(1), object(2)\n",
      "memory usage: 35.0+ KB\n"
     ]
    },
    {
     "data": {
      "text/html": [
       "<div>\n",
       "<style scoped>\n",
       "    .dataframe tbody tr th:only-of-type {\n",
       "        vertical-align: middle;\n",
       "    }\n",
       "\n",
       "    .dataframe tbody tr th {\n",
       "        vertical-align: top;\n",
       "    }\n",
       "\n",
       "    .dataframe thead th {\n",
       "        text-align: right;\n",
       "    }\n",
       "</style>\n",
       "<table border=\"1\" class=\"dataframe\">\n",
       "  <thead>\n",
       "    <tr style=\"text-align: right;\">\n",
       "      <th></th>\n",
       "      <th>ArticleId</th>\n",
       "      <th>Text</th>\n",
       "      <th>Category</th>\n",
       "    </tr>\n",
       "  </thead>\n",
       "  <tbody>\n",
       "    <tr>\n",
       "      <th>0</th>\n",
       "      <td>1833</td>\n",
       "      <td>worldcom ex-boss launches defence lawyers defe...</td>\n",
       "      <td>business</td>\n",
       "    </tr>\n",
       "    <tr>\n",
       "      <th>1</th>\n",
       "      <td>154</td>\n",
       "      <td>german business confidence slides german busin...</td>\n",
       "      <td>business</td>\n",
       "    </tr>\n",
       "    <tr>\n",
       "      <th>2</th>\n",
       "      <td>1101</td>\n",
       "      <td>bbc poll indicates economic gloom citizens in ...</td>\n",
       "      <td>business</td>\n",
       "    </tr>\n",
       "    <tr>\n",
       "      <th>3</th>\n",
       "      <td>1976</td>\n",
       "      <td>lifestyle  governs mobile choice  faster  bett...</td>\n",
       "      <td>tech</td>\n",
       "    </tr>\n",
       "    <tr>\n",
       "      <th>4</th>\n",
       "      <td>917</td>\n",
       "      <td>enron bosses in $168m payout eighteen former e...</td>\n",
       "      <td>business</td>\n",
       "    </tr>\n",
       "    <tr>\n",
       "      <th>...</th>\n",
       "      <td>...</td>\n",
       "      <td>...</td>\n",
       "      <td>...</td>\n",
       "    </tr>\n",
       "    <tr>\n",
       "      <th>1485</th>\n",
       "      <td>857</td>\n",
       "      <td>double eviction from big brother model caprice...</td>\n",
       "      <td>entertainment</td>\n",
       "    </tr>\n",
       "    <tr>\n",
       "      <th>1486</th>\n",
       "      <td>325</td>\n",
       "      <td>dj double act revamp chart show dj duo jk and ...</td>\n",
       "      <td>entertainment</td>\n",
       "    </tr>\n",
       "    <tr>\n",
       "      <th>1487</th>\n",
       "      <td>1590</td>\n",
       "      <td>weak dollar hits reuters revenues at media gro...</td>\n",
       "      <td>business</td>\n",
       "    </tr>\n",
       "    <tr>\n",
       "      <th>1488</th>\n",
       "      <td>1587</td>\n",
       "      <td>apple ipod family expands market apple has exp...</td>\n",
       "      <td>tech</td>\n",
       "    </tr>\n",
       "    <tr>\n",
       "      <th>1489</th>\n",
       "      <td>538</td>\n",
       "      <td>santy worm makes unwelcome visit thousands of ...</td>\n",
       "      <td>tech</td>\n",
       "    </tr>\n",
       "  </tbody>\n",
       "</table>\n",
       "<p>1490 rows × 3 columns</p>\n",
       "</div>"
      ],
      "text/plain": [
       "      ArticleId                                               Text  \\\n",
       "0          1833  worldcom ex-boss launches defence lawyers defe...   \n",
       "1           154  german business confidence slides german busin...   \n",
       "2          1101  bbc poll indicates economic gloom citizens in ...   \n",
       "3          1976  lifestyle  governs mobile choice  faster  bett...   \n",
       "4           917  enron bosses in $168m payout eighteen former e...   \n",
       "...         ...                                                ...   \n",
       "1485        857  double eviction from big brother model caprice...   \n",
       "1486        325  dj double act revamp chart show dj duo jk and ...   \n",
       "1487       1590  weak dollar hits reuters revenues at media gro...   \n",
       "1488       1587  apple ipod family expands market apple has exp...   \n",
       "1489        538  santy worm makes unwelcome visit thousands of ...   \n",
       "\n",
       "           Category  \n",
       "0          business  \n",
       "1          business  \n",
       "2          business  \n",
       "3              tech  \n",
       "4          business  \n",
       "...             ...  \n",
       "1485  entertainment  \n",
       "1486  entertainment  \n",
       "1487       business  \n",
       "1488           tech  \n",
       "1489           tech  \n",
       "\n",
       "[1490 rows x 3 columns]"
      ]
     },
     "execution_count": 2,
     "metadata": {},
     "output_type": "execute_result"
    }
   ],
   "source": [
    "#read in train and testing data to dfs\n",
    "train_data = pd.read_csv(\"BBC News Train.csv\")\n",
    "test_data = pd.read_csv(\"BBC News Test.csv\")\n",
    "\n",
    "#show the info of dataframes and sample of train data\n",
    "test_data.info()\n",
    "train_data.info()\n",
    "\n",
    "train_data"
   ]
  },
  {
   "cell_type": "code",
   "execution_count": 3,
   "id": "b293016d",
   "metadata": {},
   "outputs": [
    {
     "data": {
      "text/plain": [
       "<Axes: >"
      ]
     },
     "execution_count": 3,
     "metadata": {},
     "output_type": "execute_result"
    },
    {
     "data": {
      "image/png": "[encoded data removed]",
      "text/plain": [
       "<Figure size 640x480 with 1 Axes>"
      ]
     },
     "metadata": {},
     "output_type": "display_data"
    }
   ],
   "source": [
    "#Put categories into variable\n",
    "y_train = train_data['Category']\n",
    "\n",
    "#histogram for Category column\n",
    "train_data['Category'].value_counts().plot(kind='bar')"
   ]
  },
  {
   "cell_type": "markdown",
   "id": "df51b9a6",
   "metadata": {},
   "source": [
    "The training data has 1490 samples, and 3 columns: ArticleId, Text (the text of the article), and Category. The test data has 735 samples with 2 columns, the ArticleId and Text. There are no null values.\n",
    "\n",
    "The histogram shows that the data is balanced with similar number of articles per category.\n",
    "\n",
    "Next we will look at the number of words in each article and break it down by category.\n",
    "\n",
    "We will also look at the counts of a few different words that seem specific to one of the categories."
   ]
  },
  {
   "cell_type": "code",
   "execution_count": 4,
   "id": "077aa870",
   "metadata": {},
   "outputs": [
    {
     "data": {
      "text/html": [
       "<div>\n",
       "<style scoped>\n",
       "    .dataframe tbody tr th:only-of-type {\n",
       "        vertical-align: middle;\n",
       "    }\n",
       "\n",
       "    .dataframe tbody tr th {\n",
       "        vertical-align: top;\n",
       "    }\n",
       "\n",
       "    .dataframe thead th {\n",
       "        text-align: right;\n",
       "    }\n",
       "</style>\n",
       "<table border=\"1\" class=\"dataframe\">\n",
       "  <thead>\n",
       "    <tr style=\"text-align: right;\">\n",
       "      <th></th>\n",
       "      <th>ArticleId</th>\n",
       "      <th>Text</th>\n",
       "      <th>Category</th>\n",
       "      <th>Word Count</th>\n",
       "      <th>Ball Count</th>\n",
       "      <th>Computer Count</th>\n",
       "      <th>Growth Count</th>\n",
       "      <th>Actor Count</th>\n",
       "    </tr>\n",
       "  </thead>\n",
       "  <tbody>\n",
       "    <tr>\n",
       "      <th>0</th>\n",
       "      <td>1833</td>\n",
       "      <td>worldcom ex-boss launches defence lawyers defe...</td>\n",
       "      <td>business</td>\n",
       "      <td>301</td>\n",
       "      <td>0</td>\n",
       "      <td>0</td>\n",
       "      <td>0</td>\n",
       "      <td>0</td>\n",
       "    </tr>\n",
       "    <tr>\n",
       "      <th>1</th>\n",
       "      <td>154</td>\n",
       "      <td>german business confidence slides german busin...</td>\n",
       "      <td>business</td>\n",
       "      <td>325</td>\n",
       "      <td>0</td>\n",
       "      <td>0</td>\n",
       "      <td>1</td>\n",
       "      <td>0</td>\n",
       "    </tr>\n",
       "    <tr>\n",
       "      <th>2</th>\n",
       "      <td>1101</td>\n",
       "      <td>bbc poll indicates economic gloom citizens in ...</td>\n",
       "      <td>business</td>\n",
       "      <td>514</td>\n",
       "      <td>0</td>\n",
       "      <td>0</td>\n",
       "      <td>1</td>\n",
       "      <td>0</td>\n",
       "    </tr>\n",
       "    <tr>\n",
       "      <th>3</th>\n",
       "      <td>1976</td>\n",
       "      <td>lifestyle  governs mobile choice  faster  bett...</td>\n",
       "      <td>tech</td>\n",
       "      <td>634</td>\n",
       "      <td>0</td>\n",
       "      <td>0</td>\n",
       "      <td>0</td>\n",
       "      <td>1</td>\n",
       "    </tr>\n",
       "    <tr>\n",
       "      <th>4</th>\n",
       "      <td>917</td>\n",
       "      <td>enron bosses in $168m payout eighteen former e...</td>\n",
       "      <td>business</td>\n",
       "      <td>355</td>\n",
       "      <td>0</td>\n",
       "      <td>0</td>\n",
       "      <td>0</td>\n",
       "      <td>0</td>\n",
       "    </tr>\n",
       "    <tr>\n",
       "      <th>...</th>\n",
       "      <td>...</td>\n",
       "      <td>...</td>\n",
       "      <td>...</td>\n",
       "      <td>...</td>\n",
       "      <td>...</td>\n",
       "      <td>...</td>\n",
       "      <td>...</td>\n",
       "      <td>...</td>\n",
       "    </tr>\n",
       "    <tr>\n",
       "      <th>1485</th>\n",
       "      <td>857</td>\n",
       "      <td>double eviction from big brother model caprice...</td>\n",
       "      <td>entertainment</td>\n",
       "      <td>223</td>\n",
       "      <td>0</td>\n",
       "      <td>0</td>\n",
       "      <td>0</td>\n",
       "      <td>1</td>\n",
       "    </tr>\n",
       "    <tr>\n",
       "      <th>1486</th>\n",
       "      <td>325</td>\n",
       "      <td>dj double act revamp chart show dj duo jk and ...</td>\n",
       "      <td>entertainment</td>\n",
       "      <td>558</td>\n",
       "      <td>0</td>\n",
       "      <td>0</td>\n",
       "      <td>0</td>\n",
       "      <td>0</td>\n",
       "    </tr>\n",
       "    <tr>\n",
       "      <th>1487</th>\n",
       "      <td>1590</td>\n",
       "      <td>weak dollar hits reuters revenues at media gro...</td>\n",
       "      <td>business</td>\n",
       "      <td>237</td>\n",
       "      <td>0</td>\n",
       "      <td>0</td>\n",
       "      <td>2</td>\n",
       "      <td>0</td>\n",
       "    </tr>\n",
       "    <tr>\n",
       "      <th>1488</th>\n",
       "      <td>1587</td>\n",
       "      <td>apple ipod family expands market apple has exp...</td>\n",
       "      <td>tech</td>\n",
       "      <td>560</td>\n",
       "      <td>0</td>\n",
       "      <td>0</td>\n",
       "      <td>2</td>\n",
       "      <td>0</td>\n",
       "    </tr>\n",
       "    <tr>\n",
       "      <th>1489</th>\n",
       "      <td>538</td>\n",
       "      <td>santy worm makes unwelcome visit thousands of ...</td>\n",
       "      <td>tech</td>\n",
       "      <td>295</td>\n",
       "      <td>0</td>\n",
       "      <td>0</td>\n",
       "      <td>0</td>\n",
       "      <td>0</td>\n",
       "    </tr>\n",
       "  </tbody>\n",
       "</table>\n",
       "<p>1490 rows × 8 columns</p>\n",
       "</div>"
      ],
      "text/plain": [
       "      ArticleId                                               Text  \\\n",
       "0          1833  worldcom ex-boss launches defence lawyers defe...   \n",
       "1           154  german business confidence slides german busin...   \n",
       "2          1101  bbc poll indicates economic gloom citizens in ...   \n",
       "3          1976  lifestyle  governs mobile choice  faster  bett...   \n",
       "4           917  enron bosses in $168m payout eighteen former e...   \n",
       "...         ...                                                ...   \n",
       "1485        857  double eviction from big brother model caprice...   \n",
       "1486        325  dj double act revamp chart show dj duo jk and ...   \n",
       "1487       1590  weak dollar hits reuters revenues at media gro...   \n",
       "1488       1587  apple ipod family expands market apple has exp...   \n",
       "1489        538  santy worm makes unwelcome visit thousands of ...   \n",
       "\n",
       "           Category  Word Count  Ball Count  Computer Count  Growth Count  \\\n",
       "0          business         301           0               0             0   \n",
       "1          business         325           0               0             1   \n",
       "2          business         514           0               0             1   \n",
       "3              tech         634           0               0             0   \n",
       "4          business         355           0               0             0   \n",
       "...             ...         ...         ...             ...           ...   \n",
       "1485  entertainment         223           0               0             0   \n",
       "1486  entertainment         558           0               0             0   \n",
       "1487       business         237           0               0             2   \n",
       "1488           tech         560           0               0             2   \n",
       "1489           tech         295           0               0             0   \n",
       "\n",
       "      Actor Count  \n",
       "0               0  \n",
       "1               0  \n",
       "2               0  \n",
       "3               1  \n",
       "4               0  \n",
       "...           ...  \n",
       "1485            1  \n",
       "1486            0  \n",
       "1487            0  \n",
       "1488            0  \n",
       "1489            0  \n",
       "\n",
       "[1490 rows x 8 columns]"
      ]
     },
     "execution_count": 4,
     "metadata": {},
     "output_type": "execute_result"
    }
   ],
   "source": [
    "#count the number of words in the text of each article\n",
    "train_data['Word Count'] = train_data.apply(lambda row : len(row['Text'].split()), axis= 1)\n",
    "\n",
    "#Count the number of characters in text\n",
    "train_data['Ball Count'] = train_data.apply(lambda row : row['Text'].count('ball'), axis= 1)\n",
    "train_data['Computer Count'] = train_data.apply(lambda row : row['Text'].count('computer'), axis= 1)\n",
    "train_data['Growth Count'] = train_data.apply(lambda row : row['Text'].count('growth'), axis= 1)\n",
    "train_data['Actor Count'] = train_data.apply(lambda row : row['Text'].count('actor'), axis= 1)\n",
    "train_data"
   ]
  },
  {
   "cell_type": "code",
   "execution_count": 5,
   "id": "ec93d88f",
   "metadata": {},
   "outputs": [
    {
     "data": {
      "text/plain": [
       "<Axes: xlabel='Category', ylabel='Word Count'>"
      ]
     },
     "execution_count": 5,
     "metadata": {},
     "output_type": "execute_result"
    },
    {
     "data": {
      "image/png": "[encoded data removed]",
      "text/plain": [
       "<Figure size 640x480 with 1 Axes>"
      ]
     },
     "metadata": {},
     "output_type": "display_data"
    }
   ],
   "source": [
    "#Create boxplot for word count\n",
    "sns.boxplot(x = 'Category', y = 'Word Count', data = train_data)"
   ]
  },
  {
   "cell_type": "markdown",
   "id": "4eaf026a",
   "metadata": {},
   "source": [
    "The word counts between categories are similar. Tech articles have the highest word count, but it does not look to be such a significant difference that it would interfere with our analysis and modeling."
   ]
  },
  {
   "cell_type": "code",
   "execution_count": 6,
   "id": "2e092290",
   "metadata": {},
   "outputs": [
    {
     "data": {
      "text/plain": [
       "<Axes: xlabel='Category', ylabel='Actor Count'>"
      ]
     },
     "execution_count": 6,
     "metadata": {},
     "output_type": "execute_result"
    },
    {
     "data": {
      "image/png": "[encoded data removed]",
      "text/plain": [
       "<Figure size 1800x1000 with 4 Axes>"
      ]
     },
     "metadata": {},
     "output_type": "display_data"
    }
   ],
   "source": [
    "#Create boxplot for different word counts\n",
    "fig, axes = plt.subplots(2, 2, figsize=(18, 10))\n",
    " \n",
    "fig.suptitle('Boxplots for Different Word Counts')\n",
    " \n",
    "sns.boxplot(ax=axes[0, 0], x = 'Category', y = 'Ball Count', data = train_data)\n",
    "sns.boxplot(ax=axes[0, 1], x = 'Category', y = 'Computer Count', data = train_data)\n",
    "\n",
    "sns.boxplot(ax=axes[1, 0], x = 'Category', y = 'Growth Count', data = train_data)\n",
    "sns.boxplot(ax=axes[1, 1], x = 'Category', y = 'Actor Count', data = train_data)"
   ]
  },
  {
   "cell_type": "markdown",
   "id": "a4666a86",
   "metadata": {},
   "source": [
    "The boxplots above show the number of times a specific word appeared in the article. The top left one is counts for the word \"ball\", top right for \"computer\", bottom left for \"growth\", and bottom right for \"actor\". \n",
    "\n",
    "The plots behave as expected, the category most closely associated with the word (such as sport for ball) has the highest counts. However, the other categories do have some outlier articles that do mention the word. This helps illustrate what we will be doing with the models: analyze the words and build a model that can differentiate what category a block of text belongs to based on its words. \n",
    "\n",
    "The analysis plan is to transform each article's text to a matrix of word frequencies. Then we will use a non-negative matrix factorization model to transform the matrix of word frequencies to 5 components correlating to the 5 possible categories for the news articles. Then from there, we can predict the category by taking the largest value in each row.  "
   ]
  },
  {
   "cell_type": "markdown",
   "id": "69cd13c5",
   "metadata": {},
   "source": [
    "# Transform text to matrix\n",
    "We will use TfidfVectorizer to transform our text to a matrix of features (word frequencies).\n",
    "\n",
    "TfidfVectorizer first performs a countVectorizer and then a TfidfTransformer. The countVectorizer goes through all the content provided and creates a count per row (per article in our case) for each word. The TfidfTransformer then converts this raw count matrix to a term-frequency times inverse document-frequency matrix. This means that it scales down the impact of words that occur very frequently in the input. This is helpful, because some words will appear in almost every article and will not provide much information about the category. This is a very common scaling technique and has been found useful for document classification. \n",
    "\n",
    "We are going to create the word features based only on the training data. This means that words that are in the test data, but not in the training data will not be included in the matrix and will not have an impact on the model. This is because test data is traditionally used to test \"unseen\" data, and in a real application it would be future data or data you don't have yet. So, in that situation you would not be able to include future data (or text) to create the matrix. For this reason, only using the training data to create the feature matrix seems like the right choice. "
   ]
  },
  {
   "cell_type": "code",
   "execution_count": 7,
   "id": "f07b2a7d",
   "metadata": {},
   "outputs": [
    {
     "name": "stdout",
     "output_type": "stream",
     "text": [
      "(1490, 24746)\n",
      "(735, 24746)\n"
     ]
    }
   ],
   "source": [
    "#Use TfidfVectorizer to transform article text to matrix of features\n",
    "#will use default values here, then try different values later to see if can improve\n",
    "vectorizer1 = TfidfVectorizer()\n",
    "\n",
    "#fit to the training data text and transform the text to matrix\n",
    "train_word_freq1 = vectorizer1.fit_transform(train_data['Text'])\n",
    "\n",
    "#Get the feature names (words) that go to the matrix columns\n",
    "feature_names1 = vectorizer1.get_feature_names_out()\n",
    "\n",
    "#transform the test data to matrix\n",
    "test_word_freq1 = vectorizer1.transform(test_data['Text'])\n",
    "\n",
    "#print shape of data sets. Should be 1490 rows for train and 735 for test\n",
    "#and should be same number of columns \n",
    "print(train_word_freq1.shape)\n",
    "print(test_word_freq1.shape)"
   ]
  },
  {
   "cell_type": "code",
   "execution_count": 8,
   "id": "f745da82",
   "metadata": {},
   "outputs": [
    {
     "data": {
      "text/plain": [
       "<Axes: >"
      ]
     },
     "execution_count": 8,
     "metadata": {},
     "output_type": "execute_result"
    },
    {
     "data": {
      "image/png": "[encoded data removed]",
      "text/plain": [
       "<Figure size 640x480 with 1 Axes>"
      ]
     },
     "metadata": {},
     "output_type": "display_data"
    }
   ],
   "source": [
    "#get total frequencies across all training articles\n",
    "totals = np.array(train_word_freq1.sum(axis=0))[0]\n",
    "\n",
    "#create df with feature names and totals to visualize\n",
    "fn_wf_df = pd.DataFrame(totals, index = feature_names1)\n",
    "\n",
    "#take top 25 most frequent words and plot\n",
    "top25 = fn_wf_df.sort_values(by=[0], ascending = False).iloc[:25]\n",
    "top25.plot(kind='bar')"
   ]
  },
  {
   "cell_type": "markdown",
   "id": "001081aa",
   "metadata": {},
   "source": [
    "The plot above shows the 25 most frequent words across all articles in the training set. The 25 most frequent words are all \"unimportant\" words and don't add much context. We will make another model later that will remove these."
   ]
  },
  {
   "cell_type": "markdown",
   "id": "64aaf41d",
   "metadata": {},
   "source": [
    "# Models\n",
    "### Unsupervised Models\n",
    "We will first build a Non-negative matrix factorization and use it to make predictions on our data. \n",
    "\n",
    "The first two code blocks are functions. The label permutation function will find which categories correspond to what colum in the matrix factorization."
   ]
  },
  {
   "cell_type": "code",
   "execution_count": 9,
   "id": "afcf6e05",
   "metadata": {},
   "outputs": [],
   "source": [
    "def label_permute_compare(ytdf,yp):\n",
    "    \"\"\"\n",
    "    ytdf: true labels dataframe\n",
    "    yp: predicted labels\n",
    "    Returns permuted label order that provides highest accuracy. \n",
    "    \"\"\"\n",
    "    #initialize variables\n",
    "    i = 0\n",
    "    high_acc = 0\n",
    "    high_perm = None\n",
    "    \n",
    "    #get unique categories\n",
    "    categories =  ytdf['Category'].unique().tolist()\n",
    "    \n",
    "    #go through all permutations of categories\n",
    "    for perm in itertools.permutations(categories, len(categories)):\n",
    "        #change prediction to this permutation of values\n",
    "        yp_perm = [perm[yp[i]] for i in range(len(yp))]\n",
    "        \n",
    "        #check accuracy of the predictions\n",
    "        accuracy = accuracy_score(ytdf['Category'],yp_perm)\n",
    "\n",
    "        #if accuracy greater than current high_acc, set as new high_acc and perm\n",
    "        if accuracy > high_acc:\n",
    "            high_acc = accuracy\n",
    "            high_perm = perm\n",
    "            \n",
    "    return high_perm, round(high_acc,3)\n"
   ]
  },
  {
   "cell_type": "code",
   "execution_count": 10,
   "id": "c44972d8",
   "metadata": {},
   "outputs": [],
   "source": [
    "def make_prediction(W, ytdf):\n",
    "    \"\"\"\n",
    "    W: transformed matrix from NMF model\n",
    "    ytdf: true labels dataframe\n",
    "    Returns the predicted values as strings, and the label\n",
    "    dictionary for tranforming from int to string\n",
    "    \"\"\" \n",
    "    #get prediction by getting index of max number in row\n",
    "    yp = np.argmax(W, axis = 1)\n",
    "\n",
    "    #find label order for predictions that results in highest accuracy\n",
    "    labelorder, acc = label_permute_compare(train_data,np.argmax(W, axis = 1))\n",
    "\n",
    "    #turn labelorder into a dictionary\n",
    "    label_dict = { indx: val for indx, val in enumerate(list(labelorder))}\n",
    "    print(label_dict)\n",
    "\n",
    "    yp = [label_dict[ele] for ele in np.argmax(W, axis = 1)]\n",
    "    \n",
    "    return yp, label_dict"
   ]
  },
  {
   "cell_type": "code",
   "execution_count": 11,
   "id": "a03e5cab",
   "metadata": {},
   "outputs": [
    {
     "data": {
      "text/plain": [
       "array([[0.04483567, 0.04604088, 0.00817999, 0.        , 0.00215838],\n",
       "       [0.15116878, 0.        , 0.        , 0.        , 0.        ],\n",
       "       [0.11500777, 0.02017373, 0.01394042, 0.00982835, 0.03495753],\n",
       "       ...,\n",
       "       [0.14420606, 0.        , 0.00290955, 0.        , 0.        ],\n",
       "       [0.04278869, 0.        , 0.        , 0.01018596, 0.18590802],\n",
       "       [0.02812405, 0.        , 0.00929763, 0.00236177, 0.10194741]])"
      ]
     },
     "execution_count": 11,
     "metadata": {},
     "output_type": "execute_result"
    }
   ],
   "source": [
    "#create NMF model and transform\n",
    "model = NMF(n_components = 5, random_state=0)\n",
    "W = model.fit_transform(train_word_freq1)\n",
    "H = model.components_\n",
    "W"
   ]
  },
  {
   "cell_type": "code",
   "execution_count": 12,
   "id": "e7457760",
   "metadata": {},
   "outputs": [
    {
     "name": "stdout",
     "output_type": "stream",
     "text": [
      "{0: 'business', 1: 'politics', 2: 'sport', 3: 'entertainment', 4: 'tech'}\n",
      "Train Accuracy:  0.876510067114094\n"
     ]
    }
   ],
   "source": [
    "#Make predictions from model\n",
    "yp_train, label_dict = make_prediction(W, train_data)\n",
    "acc = accuracy_score(train_data['Category'],yp_train)\n",
    "print(\"Train Accuracy: \", acc)"
   ]
  },
  {
   "cell_type": "markdown",
   "id": "a00c12e5",
   "metadata": {},
   "source": [
    "This first model used all defaults for the Tdidfvectorizer and the NMF. The accuracy was 87.7%, which seems pretty good! We will try to tune both parts of the model to see if we can increase the accuracy."
   ]
  },
  {
   "cell_type": "code",
   "execution_count": 13,
   "id": "1b5d36d5",
   "metadata": {},
   "outputs": [],
   "source": [
    "#transform test data and check accuracy\n",
    "W_test = model.transform(test_word_freq1)\n",
    "yp_test = [label_dict[ele] for ele in np.argmax(W_test, axis = 1)]"
   ]
  },
  {
   "cell_type": "code",
   "execution_count": 14,
   "id": "c03f7b9c",
   "metadata": {},
   "outputs": [],
   "source": [
    "#set articleId and predictions to df and write to csv to submit to Kaggle\n",
    "solutiondf = pd.DataFrame(yp_test, columns = ['Category'], index = test_data['ArticleId'])\n",
    "solutiondf.to_csv(\"solution1.csv\")\n",
    "#Accuracy from Kaggle: 0.87755"
   ]
  },
  {
   "cell_type": "markdown",
   "id": "5b09132c",
   "metadata": {},
   "source": [
    "We will discuss the test results in the results section."
   ]
  },
  {
   "cell_type": "markdown",
   "id": "995ed980",
   "metadata": {},
   "source": [
    "### Improve Model\n",
    "We will now build another Non-negative matrix factorization, but change some of the defaults for the NMF function."
   ]
  },
  {
   "cell_type": "code",
   "execution_count": 15,
   "id": "33841ffc",
   "metadata": {},
   "outputs": [
    {
     "name": "stdout",
     "output_type": "stream",
     "text": [
      "{0: 'business', 1: 'politics', 2: 'sport', 3: 'entertainment', 4: 'tech'}\n",
      "Train Accuracy:  0.9194630872483222\n"
     ]
    }
   ],
   "source": [
    "#Build another NMF model and tune parameters to get best accuracy\n",
    "model = NMF(n_components = 5, random_state=0, beta_loss = 'kullback-leibler', solver = 'mu')\n",
    "W = model.fit_transform(train_word_freq1)\n",
    "\n",
    "#Make predictions from model\n",
    "yp_train, label_dict = make_prediction(W, train_data)\n",
    "acc = accuracy_score(train_data['Category'],yp_train)\n",
    "print(\"Train Accuracy: \", acc)"
   ]
  },
  {
   "cell_type": "code",
   "execution_count": 16,
   "id": "4be45d7d",
   "metadata": {},
   "outputs": [],
   "source": [
    "#transform test data and check accuracy\n",
    "W_test = model.transform(test_word_freq1)\n",
    "yp_test = [label_dict[ele] for ele in np.argmax(W_test, axis = 1)]\n",
    "\n",
    "#set articleId and predictions to df and write to csv to submit to Kaggle\n",
    "solutiondf = pd.DataFrame(yp_test, columns = ['Category'], index = test_data['ArticleId'])\n",
    "solutiondf.to_csv(\"solution1b.csv\")\n",
    "#Accuracy from Kaggle: 0.95102"
   ]
  },
  {
   "cell_type": "markdown",
   "id": "992ec87d",
   "metadata": {},
   "source": [
    "These changes to NMF improved the accuracy from 87.7% to 91.9%! We will try to make changes to the Tfidfvectorizer to see if we can further improvement the model."
   ]
  },
  {
   "cell_type": "markdown",
   "id": "928885d8",
   "metadata": {},
   "source": [
    "### Try different word features"
   ]
  },
  {
   "cell_type": "code",
   "execution_count": 17,
   "id": "ccde1be8",
   "metadata": {},
   "outputs": [
    {
     "name": "stdout",
     "output_type": "stream",
     "text": [
      "(1490, 9927)\n",
      "(735, 9927)\n"
     ]
    }
   ],
   "source": [
    "#Use TfidfVectorizer to transform article text to matrix of features (term frequencies)\n",
    "#will change the default values to try to improve models\n",
    "vectorizer2 = TfidfVectorizer(min_df=5, stop_words = 'english',ngram_range=(1, 2),sublinear_tf=True)\n",
    "\n",
    "train_word_freq2 = vectorizer2.fit_transform(train_data['Text'])\n",
    "\n",
    "feature_names2 = vectorizer2.get_feature_names_out()\n",
    "\n",
    "#split back to train and test set\n",
    "test_word_freq2 = vectorizer2.transform(test_data['Text'])\n",
    "\n",
    "print(train_word_freq2.shape)\n",
    "print(test_word_freq2.shape)"
   ]
  },
  {
   "cell_type": "code",
   "execution_count": 18,
   "id": "a7f5652a",
   "metadata": {},
   "outputs": [],
   "source": [
    "#get total frequencies across all train articles\n",
    "totals2 = np.array(train_word_freq2.sum(axis=0))[0]\n",
    "#totals"
   ]
  },
  {
   "cell_type": "code",
   "execution_count": 19,
   "id": "868a8e3c",
   "metadata": {},
   "outputs": [
    {
     "data": {
      "text/plain": [
       "<Axes: >"
      ]
     },
     "execution_count": 19,
     "metadata": {},
     "output_type": "execute_result"
    },
    {
     "data": {
      "image/png": "[encoded data removed]",
      "text/plain": [
       "<Figure size 640x480 with 1 Axes>"
      ]
     },
     "metadata": {},
     "output_type": "display_data"
    }
   ],
   "source": [
    "#create df with feature names and totals\n",
    "#fn_wf_df = pd.DataFrame([feature_names, totals]).T\n",
    "fn_wf_df = pd.DataFrame(totals2, index = feature_names2)\n",
    "\n",
    "#take top 25 most frequent words and plot\n",
    "top25 = fn_wf_df.sort_values(by=[0], ascending = False).iloc[:25]\n",
    "top25.plot(kind='bar')"
   ]
  },
  {
   "cell_type": "markdown",
   "id": "ec112a54",
   "metadata": {},
   "source": [
    "The only words that are still in the top 25 of this new feature matrix (that were in the top 25 of the original feature matrix) are \"said\" and \"mr\". The words in the chart above have much more meaning in relation to our categories than the original word matrix did. This should lead to improved results in our models. "
   ]
  },
  {
   "cell_type": "code",
   "execution_count": 20,
   "id": "b1430ff3",
   "metadata": {},
   "outputs": [
    {
     "name": "stdout",
     "output_type": "stream",
     "text": [
      "{0: 'tech', 1: 'sport', 2: 'politics', 3: 'entertainment', 4: 'business'}\n",
      "Train Accuracy:  0.951006711409396\n"
     ]
    }
   ],
   "source": [
    "#create model and transform\n",
    "model = NMF(n_components = 5, random_state=0)\n",
    "W = model.fit_transform(train_word_freq2)\n",
    "\n",
    "#Make predictions from model\n",
    "yp_train, label_dict = make_prediction(W, train_data)\n",
    "acc = accuracy_score(train_data['Category'],yp_train)\n",
    "print(\"Train Accuracy: \", acc)"
   ]
  },
  {
   "cell_type": "code",
   "execution_count": 21,
   "id": "0518728a",
   "metadata": {},
   "outputs": [
    {
     "data": {
      "text/html": [
       "<div>\n",
       "<style scoped>\n",
       "    .dataframe tbody tr th:only-of-type {\n",
       "        vertical-align: middle;\n",
       "    }\n",
       "\n",
       "    .dataframe tbody tr th {\n",
       "        vertical-align: top;\n",
       "    }\n",
       "\n",
       "    .dataframe thead th {\n",
       "        text-align: right;\n",
       "    }\n",
       "</style>\n",
       "<table border=\"1\" class=\"dataframe\">\n",
       "  <thead>\n",
       "    <tr style=\"text-align: right;\">\n",
       "      <th></th>\n",
       "      <th>Category</th>\n",
       "    </tr>\n",
       "    <tr>\n",
       "      <th>ArticleId</th>\n",
       "      <th></th>\n",
       "    </tr>\n",
       "  </thead>\n",
       "  <tbody>\n",
       "    <tr>\n",
       "      <th>1018</th>\n",
       "      <td>sport</td>\n",
       "    </tr>\n",
       "    <tr>\n",
       "      <th>1319</th>\n",
       "      <td>tech</td>\n",
       "    </tr>\n",
       "    <tr>\n",
       "      <th>1138</th>\n",
       "      <td>sport</td>\n",
       "    </tr>\n",
       "    <tr>\n",
       "      <th>459</th>\n",
       "      <td>business</td>\n",
       "    </tr>\n",
       "    <tr>\n",
       "      <th>1020</th>\n",
       "      <td>sport</td>\n",
       "    </tr>\n",
       "    <tr>\n",
       "      <th>...</th>\n",
       "      <td>...</td>\n",
       "    </tr>\n",
       "    <tr>\n",
       "      <th>1923</th>\n",
       "      <td>business</td>\n",
       "    </tr>\n",
       "    <tr>\n",
       "      <th>373</th>\n",
       "      <td>entertainment</td>\n",
       "    </tr>\n",
       "    <tr>\n",
       "      <th>1704</th>\n",
       "      <td>tech</td>\n",
       "    </tr>\n",
       "    <tr>\n",
       "      <th>206</th>\n",
       "      <td>business</td>\n",
       "    </tr>\n",
       "    <tr>\n",
       "      <th>471</th>\n",
       "      <td>politics</td>\n",
       "    </tr>\n",
       "  </tbody>\n",
       "</table>\n",
       "<p>735 rows × 1 columns</p>\n",
       "</div>"
      ],
      "text/plain": [
       "                Category\n",
       "ArticleId               \n",
       "1018               sport\n",
       "1319                tech\n",
       "1138               sport\n",
       "459             business\n",
       "1020               sport\n",
       "...                  ...\n",
       "1923            business\n",
       "373        entertainment\n",
       "1704                tech\n",
       "206             business\n",
       "471             politics\n",
       "\n",
       "[735 rows x 1 columns]"
      ]
     },
     "execution_count": 21,
     "metadata": {},
     "output_type": "execute_result"
    }
   ],
   "source": [
    "#predict test data\n",
    "W_test = model.transform(test_word_freq2)\n",
    "yp_test = np.argmax(W_test, axis = 1)\n",
    "yp_test = [label_dict[ele] for ele in yp_test]\n",
    "\n",
    "#Write results to csv to submit to Kaggle\n",
    "solutiondf = pd.DataFrame(yp_test, columns = ['Category'], index = test_data['ArticleId'])\n",
    "solutiondf.to_csv(\"solution2a.csv\")\n",
    "solutiondf\n",
    "#Accuracy from Kaggle: 0.95782"
   ]
  },
  {
   "cell_type": "code",
   "execution_count": 22,
   "id": "c2701993",
   "metadata": {},
   "outputs": [
    {
     "name": "stdout",
     "output_type": "stream",
     "text": [
      "{0: 'tech', 1: 'sport', 2: 'politics', 3: 'entertainment', 4: 'business'}\n",
      "Train Accuracy:  0.9691275167785235\n"
     ]
    }
   ],
   "source": [
    "#create model and transform\n",
    "model = NMF(n_components = 5, random_state=0, beta_loss = 'kullback-leibler', solver = 'mu')\n",
    "W = model.fit_transform(train_word_freq2)\n",
    "\n",
    "#Make predictions from model\n",
    "yp_train, label_dict = make_prediction(W, train_data)\n",
    "acc = accuracy_score(train_data['Category'],yp_train)\n",
    "print(\"Train Accuracy: \", acc)"
   ]
  },
  {
   "cell_type": "code",
   "execution_count": 23,
   "id": "c2b7a6cc",
   "metadata": {},
   "outputs": [
    {
     "data": {
      "text/html": [
       "<div>\n",
       "<style scoped>\n",
       "    .dataframe tbody tr th:only-of-type {\n",
       "        vertical-align: middle;\n",
       "    }\n",
       "\n",
       "    .dataframe tbody tr th {\n",
       "        vertical-align: top;\n",
       "    }\n",
       "\n",
       "    .dataframe thead th {\n",
       "        text-align: right;\n",
       "    }\n",
       "</style>\n",
       "<table border=\"1\" class=\"dataframe\">\n",
       "  <thead>\n",
       "    <tr style=\"text-align: right;\">\n",
       "      <th></th>\n",
       "      <th>Category</th>\n",
       "    </tr>\n",
       "    <tr>\n",
       "      <th>ArticleId</th>\n",
       "      <th></th>\n",
       "    </tr>\n",
       "  </thead>\n",
       "  <tbody>\n",
       "    <tr>\n",
       "      <th>1018</th>\n",
       "      <td>sport</td>\n",
       "    </tr>\n",
       "    <tr>\n",
       "      <th>1319</th>\n",
       "      <td>tech</td>\n",
       "    </tr>\n",
       "    <tr>\n",
       "      <th>1138</th>\n",
       "      <td>sport</td>\n",
       "    </tr>\n",
       "    <tr>\n",
       "      <th>459</th>\n",
       "      <td>business</td>\n",
       "    </tr>\n",
       "    <tr>\n",
       "      <th>1020</th>\n",
       "      <td>sport</td>\n",
       "    </tr>\n",
       "    <tr>\n",
       "      <th>...</th>\n",
       "      <td>...</td>\n",
       "    </tr>\n",
       "    <tr>\n",
       "      <th>1923</th>\n",
       "      <td>business</td>\n",
       "    </tr>\n",
       "    <tr>\n",
       "      <th>373</th>\n",
       "      <td>entertainment</td>\n",
       "    </tr>\n",
       "    <tr>\n",
       "      <th>1704</th>\n",
       "      <td>politics</td>\n",
       "    </tr>\n",
       "    <tr>\n",
       "      <th>206</th>\n",
       "      <td>business</td>\n",
       "    </tr>\n",
       "    <tr>\n",
       "      <th>471</th>\n",
       "      <td>politics</td>\n",
       "    </tr>\n",
       "  </tbody>\n",
       "</table>\n",
       "<p>735 rows × 1 columns</p>\n",
       "</div>"
      ],
      "text/plain": [
       "                Category\n",
       "ArticleId               \n",
       "1018               sport\n",
       "1319                tech\n",
       "1138               sport\n",
       "459             business\n",
       "1020               sport\n",
       "...                  ...\n",
       "1923            business\n",
       "373        entertainment\n",
       "1704            politics\n",
       "206             business\n",
       "471             politics\n",
       "\n",
       "[735 rows x 1 columns]"
      ]
     },
     "execution_count": 23,
     "metadata": {},
     "output_type": "execute_result"
    }
   ],
   "source": [
    "#predict test data\n",
    "W_test = model.transform(test_word_freq2)\n",
    "yp_test = np.argmax(W_test, axis = 1)\n",
    "yp_test = [label_dict[ele] for ele in yp_test]\n",
    "\n",
    "#Write results to csv to submit to Kaggle\n",
    "solutiondf = pd.DataFrame(yp_test, columns = ['Category'], index = test_data['ArticleId'])\n",
    "solutiondf.to_csv(\"solution2b.csv\")\n",
    "solutiondf\n",
    "#Accuracy from Kaggle: 0.9687"
   ]
  },
  {
   "cell_type": "markdown",
   "id": "90a0ba52",
   "metadata": {},
   "source": [
    "We started with an accuracy of 87.7% and increased it to 96.9% by adjusting parameters in the vectorizer and the NMF! These look to be great results in the training data. We will look further at the test results in the results section."
   ]
  },
  {
   "cell_type": "markdown",
   "id": "446efd46",
   "metadata": {},
   "source": [
    "# Supervised learning models\n",
    "We will now build and train a few supervised learning models to see how they compare to the matrix factorization models."
   ]
  },
  {
   "cell_type": "code",
   "execution_count": 24,
   "id": "d74922a2",
   "metadata": {},
   "outputs": [
    {
     "name": "stdout",
     "output_type": "stream",
     "text": [
      "Logisitic Regression Train Accuracy:  0.9973154362416108\n"
     ]
    }
   ],
   "source": [
    "#make logisitc regression classifier\n",
    "lrclf = LogisticRegression()\n",
    "\n",
    "#fit logistic regression classifier and check accuracy of train data\n",
    "lrclf.fit(train_word_freq2, y_train)\n",
    "print(\"Logisitic Regression Train Accuracy: \",lrclf.score(train_word_freq2,y_train))\n",
    "\n",
    "#predict test data\n",
    "yp_test = lrclf.predict(test_word_freq2)\n",
    "\n",
    "#Write results to csv to submit to Kaggle\n",
    "solutiondf = pd.DataFrame(yp_test, columns = ['Category'], index = test_data['ArticleId'])\n",
    "solutiondf.to_csv(\"solution3.csv\")\n",
    "#solutiondf\n",
    "#Test accuracy from Kaggle: .98095"
   ]
  },
  {
   "cell_type": "code",
   "execution_count": 25,
   "id": "48b43566",
   "metadata": {},
   "outputs": [
    {
     "name": "stdout",
     "output_type": "stream",
     "text": [
      "Random Forest Train Accuracy:  0.9926174496644296\n"
     ]
    }
   ],
   "source": [
    "#make random forest classifier\n",
    "#Do cross-validation on various paramter values\n",
    "rfclf = RandomForestClassifier(max_features = 'sqrt', max_depth = 32, min_samples_leaf = 3, random_state=0)\n",
    "\n",
    "#fit random forest classifier and check accuracy of train data\n",
    "rfclf.fit(train_word_freq2, y_train)\n",
    "print(\"Random Forest Train Accuracy: \", rfclf.score(train_word_freq2, y_train))\n",
    "\n",
    "#predict test data\n",
    "yp_test = rfclf.predict(test_word_freq2)\n",
    "\n",
    "#Write results to csv to submit to Kaggle\n",
    "solutiondf = pd.DataFrame(yp_test, columns = ['Category'], index = test_data['ArticleId'])\n",
    "solutiondf.to_csv(\"solution4.csv\")\n",
    "#Test accuracy from Kaggle: .96462"
   ]
  },
  {
   "cell_type": "code",
   "execution_count": 26,
   "id": "f6435cd0",
   "metadata": {},
   "outputs": [
    {
     "name": "stdout",
     "output_type": "stream",
     "text": [
      "Gradient Boosting Train Accuracy:  1.0\n"
     ]
    }
   ],
   "source": [
    "#make gradient boosting classifier\n",
    "#Do cross-validation on various paramter values\n",
    "gbclf = GradientBoostingClassifier(max_features = 'sqrt', max_depth = 4,min_samples_leaf = 8, learning_rate =.1)\n",
    "\n",
    "#fit gradient boosting classifier and check accuracy of train data\n",
    "gbclf.fit(train_word_freq2, y_train)\n",
    "print(\"Gradient Boosting Train Accuracy: \", gbclf.score(train_word_freq2, y_train))\n",
    "\n",
    "#predict test data\n",
    "yp_test = gbclf.predict(test_word_freq2)\n",
    "\n",
    "#Write results to csv to submit to Kaggle\n",
    "solutiondf = pd.DataFrame(yp_test, columns = ['Category'], index = test_data['ArticleId'])\n",
    "solutiondf.to_csv(\"solution5.csv\")\n",
    "#Test accuracy from Kaggle: .97142"
   ]
  },
  {
   "cell_type": "code",
   "execution_count": 27,
   "id": "22c94354",
   "metadata": {},
   "outputs": [
    {
     "name": "stdout",
     "output_type": "stream",
     "text": [
      "Support Vector Classifier Train Accuracy:  0.9993288590604027\n"
     ]
    }
   ],
   "source": [
    "#Make SVM classifier model\n",
    "#Do cross-validation on various kernel, C, and gamma paramter values\n",
    "svm = SVC(kernel = 'rbf',C=0.75,gamma = .75)\n",
    "\n",
    "#fit SVM classifier and check accuracy of train data\n",
    "svm.fit(train_word_freq2, y_train)\n",
    "print(\"Support Vector Classifier Train Accuracy: \", svm.score(train_word_freq2, y_train))\n",
    "\n",
    "#predict test data\n",
    "yp_test = svm.predict(test_word_freq2)\n",
    "\n",
    "#Write results to csv to submit to Kaggle\n",
    "solutiondf = pd.DataFrame(yp_test, columns = ['Category'], index = test_data['ArticleId'])\n",
    "solutiondf.to_csv(\"solution6.csv\")\n",
    "#Test accuracy from Kaggle: .98231"
   ]
  },
  {
   "cell_type": "markdown",
   "id": "4a8606de",
   "metadata": {},
   "source": [
    "# Using only 25% of labeled training data\n",
    "Now we will compare unsupervised and supervised learning models with 25% of the original data labels. The purpose of this is to see how a smaller set of labeled data affects the outcome of the models.\n",
    "\n",
    "The unsupervised model can still learn from all the training data (since it doesn't need labels), but then has to figure out what the model's predicted labels mean with only 25% of the original labels. That shouldn't be an issue. In this scenario, the model's predicted labels are 0 through 4 and the original labels are the categories:  business, entertainment, politics, sport or tech.\n",
    "\n",
    "The supervised learning will only be able to use the 25% of data that has labels since they require the labels to train the model. "
   ]
  },
  {
   "cell_type": "code",
   "execution_count": 28,
   "id": "af254949",
   "metadata": {},
   "outputs": [
    {
     "data": {
      "text/html": [
       "<div>\n",
       "<style scoped>\n",
       "    .dataframe tbody tr th:only-of-type {\n",
       "        vertical-align: middle;\n",
       "    }\n",
       "\n",
       "    .dataframe tbody tr th {\n",
       "        vertical-align: top;\n",
       "    }\n",
       "\n",
       "    .dataframe thead th {\n",
       "        text-align: right;\n",
       "    }\n",
       "</style>\n",
       "<table border=\"1\" class=\"dataframe\">\n",
       "  <thead>\n",
       "    <tr style=\"text-align: right;\">\n",
       "      <th></th>\n",
       "      <th>ArticleId</th>\n",
       "      <th>Text</th>\n",
       "      <th>Category</th>\n",
       "      <th>Word Count</th>\n",
       "      <th>Ball Count</th>\n",
       "      <th>Computer Count</th>\n",
       "      <th>Growth Count</th>\n",
       "      <th>Actor Count</th>\n",
       "    </tr>\n",
       "  </thead>\n",
       "  <tbody>\n",
       "    <tr>\n",
       "      <th>0</th>\n",
       "      <td>1833</td>\n",
       "      <td>worldcom ex-boss launches defence lawyers defe...</td>\n",
       "      <td>business</td>\n",
       "      <td>301</td>\n",
       "      <td>0</td>\n",
       "      <td>0</td>\n",
       "      <td>0</td>\n",
       "      <td>0</td>\n",
       "    </tr>\n",
       "    <tr>\n",
       "      <th>1</th>\n",
       "      <td>154</td>\n",
       "      <td>german business confidence slides german busin...</td>\n",
       "      <td>business</td>\n",
       "      <td>325</td>\n",
       "      <td>0</td>\n",
       "      <td>0</td>\n",
       "      <td>1</td>\n",
       "      <td>0</td>\n",
       "    </tr>\n",
       "    <tr>\n",
       "      <th>2</th>\n",
       "      <td>1101</td>\n",
       "      <td>bbc poll indicates economic gloom citizens in ...</td>\n",
       "      <td>business</td>\n",
       "      <td>514</td>\n",
       "      <td>0</td>\n",
       "      <td>0</td>\n",
       "      <td>1</td>\n",
       "      <td>0</td>\n",
       "    </tr>\n",
       "    <tr>\n",
       "      <th>3</th>\n",
       "      <td>1976</td>\n",
       "      <td>lifestyle  governs mobile choice  faster  bett...</td>\n",
       "      <td>tech</td>\n",
       "      <td>634</td>\n",
       "      <td>0</td>\n",
       "      <td>0</td>\n",
       "      <td>0</td>\n",
       "      <td>1</td>\n",
       "    </tr>\n",
       "    <tr>\n",
       "      <th>4</th>\n",
       "      <td>917</td>\n",
       "      <td>enron bosses in $168m payout eighteen former e...</td>\n",
       "      <td>business</td>\n",
       "      <td>355</td>\n",
       "      <td>0</td>\n",
       "      <td>0</td>\n",
       "      <td>0</td>\n",
       "      <td>0</td>\n",
       "    </tr>\n",
       "    <tr>\n",
       "      <th>...</th>\n",
       "      <td>...</td>\n",
       "      <td>...</td>\n",
       "      <td>...</td>\n",
       "      <td>...</td>\n",
       "      <td>...</td>\n",
       "      <td>...</td>\n",
       "      <td>...</td>\n",
       "      <td>...</td>\n",
       "    </tr>\n",
       "    <tr>\n",
       "      <th>367</th>\n",
       "      <td>151</td>\n",
       "      <td>greek sprinters suspended by iaaf greek sprint...</td>\n",
       "      <td>sport</td>\n",
       "      <td>261</td>\n",
       "      <td>0</td>\n",
       "      <td>0</td>\n",
       "      <td>0</td>\n",
       "      <td>0</td>\n",
       "    </tr>\n",
       "    <tr>\n",
       "      <th>368</th>\n",
       "      <td>295</td>\n",
       "      <td>china net cafe culture crackdown chinese autho...</td>\n",
       "      <td>tech</td>\n",
       "      <td>388</td>\n",
       "      <td>0</td>\n",
       "      <td>2</td>\n",
       "      <td>0</td>\n",
       "      <td>0</td>\n",
       "    </tr>\n",
       "    <tr>\n",
       "      <th>369</th>\n",
       "      <td>1147</td>\n",
       "      <td>bbc leads interactive bafta wins the bbc and t...</td>\n",
       "      <td>tech</td>\n",
       "      <td>341</td>\n",
       "      <td>0</td>\n",
       "      <td>0</td>\n",
       "      <td>0</td>\n",
       "      <td>0</td>\n",
       "    </tr>\n",
       "    <tr>\n",
       "      <th>370</th>\n",
       "      <td>754</td>\n",
       "      <td>italy aim to rattle england italy coach john k...</td>\n",
       "      <td>sport</td>\n",
       "      <td>389</td>\n",
       "      <td>0</td>\n",
       "      <td>0</td>\n",
       "      <td>0</td>\n",
       "      <td>1</td>\n",
       "    </tr>\n",
       "    <tr>\n",
       "      <th>371</th>\n",
       "      <td>1894</td>\n",
       "      <td>mobiles get set for visual radio the growth in...</td>\n",
       "      <td>tech</td>\n",
       "      <td>704</td>\n",
       "      <td>0</td>\n",
       "      <td>1</td>\n",
       "      <td>1</td>\n",
       "      <td>0</td>\n",
       "    </tr>\n",
       "  </tbody>\n",
       "</table>\n",
       "<p>372 rows × 8 columns</p>\n",
       "</div>"
      ],
      "text/plain": [
       "     ArticleId                                               Text  Category  \\\n",
       "0         1833  worldcom ex-boss launches defence lawyers defe...  business   \n",
       "1          154  german business confidence slides german busin...  business   \n",
       "2         1101  bbc poll indicates economic gloom citizens in ...  business   \n",
       "3         1976  lifestyle  governs mobile choice  faster  bett...      tech   \n",
       "4          917  enron bosses in $168m payout eighteen former e...  business   \n",
       "..         ...                                                ...       ...   \n",
       "367        151  greek sprinters suspended by iaaf greek sprint...     sport   \n",
       "368        295  china net cafe culture crackdown chinese autho...      tech   \n",
       "369       1147  bbc leads interactive bafta wins the bbc and t...      tech   \n",
       "370        754  italy aim to rattle england italy coach john k...     sport   \n",
       "371       1894  mobiles get set for visual radio the growth in...      tech   \n",
       "\n",
       "     Word Count  Ball Count  Computer Count  Growth Count  Actor Count  \n",
       "0           301           0               0             0            0  \n",
       "1           325           0               0             1            0  \n",
       "2           514           0               0             1            0  \n",
       "3           634           0               0             0            1  \n",
       "4           355           0               0             0            0  \n",
       "..          ...         ...             ...           ...          ...  \n",
       "367         261           0               0             0            0  \n",
       "368         388           0               2             0            0  \n",
       "369         341           0               0             0            0  \n",
       "370         389           0               0             0            1  \n",
       "371         704           0               1             1            0  \n",
       "\n",
       "[372 rows x 8 columns]"
      ]
     },
     "execution_count": 28,
     "metadata": {},
     "output_type": "execute_result"
    }
   ],
   "source": [
    "#The data is already randomized, so we will take the first 25% of the dataset\n",
    "n = math.floor(train_data.shape[0]*.25)\n",
    "n\n",
    "train_data25 = train_data.iloc[:n,:]\n",
    "train_data25"
   ]
  },
  {
   "cell_type": "code",
   "execution_count": 29,
   "id": "4762e15e",
   "metadata": {},
   "outputs": [
    {
     "name": "stdout",
     "output_type": "stream",
     "text": [
      "{0: 'tech', 1: 'sport', 2: 'politics', 3: 'entertainment', 4: 'business'}\n",
      "Train Accuracy:  0.9691275167785235\n"
     ]
    }
   ],
   "source": [
    "#create model and transform\n",
    "#Can still use same train freq because it is testing without labels\n",
    "#the train_word_freq2 does not depend on labels\n",
    "model = NMF(n_components = 5, random_state=0, beta_loss = 'kullback-leibler', solver = 'mu')\n",
    "W = model.fit_transform(train_word_freq2)\n",
    "\n",
    "#Make predictions from model\n",
    "yp_train, label_dict = make_prediction(W, train_data25)\n",
    "acc = accuracy_score(train_data['Category'],yp_train)\n",
    "print(\"Train Accuracy: \", acc)"
   ]
  },
  {
   "cell_type": "code",
   "execution_count": 30,
   "id": "bbb6986a",
   "metadata": {},
   "outputs": [],
   "source": [
    "W_test = model.transform(test_word_freq2)\n",
    "yp_test = np.argmax(W_test, axis = 1)\n",
    "yp_test = [label_dict[ele] for ele in yp_test]\n",
    "\n",
    "#Write results to csv to submit to Kaggle\n",
    "solutiondf = pd.DataFrame(yp_test, columns = ['Category'], index = test_data['ArticleId'])\n",
    "solutiondf.to_csv(\"solution7.csv\")\n",
    "#solutiondf\n",
    "#Accuracy from Kaggle: 0.95918"
   ]
  },
  {
   "cell_type": "markdown",
   "id": "f3fc407c",
   "metadata": {},
   "source": [
    "Now will try supervised learning models with 25% of labeled data"
   ]
  },
  {
   "cell_type": "code",
   "execution_count": 31,
   "id": "06e26168",
   "metadata": {},
   "outputs": [
    {
     "data": {
      "text/plain": [
       "<372x9927 sparse matrix of type '<class 'numpy.float64'>'\n",
       "\twith 51780 stored elements in Compressed Sparse Row format>"
      ]
     },
     "execution_count": 31,
     "metadata": {},
     "output_type": "execute_result"
    }
   ],
   "source": [
    "#Get the 25% y_train data for labels and the first 25% of the word freq (X)\n",
    "#to train the supervised models\n",
    "y_train25 = y_train.iloc[:n]\n",
    "#y_train25\n",
    "train_word_freq25 = train_word_freq2[:n]\n",
    "train_word_freq25"
   ]
  },
  {
   "cell_type": "code",
   "execution_count": 32,
   "id": "c5f0cf84",
   "metadata": {},
   "outputs": [
    {
     "name": "stdout",
     "output_type": "stream",
     "text": [
      "Logisitic Regression Train Accuracy:  1.0\n"
     ]
    }
   ],
   "source": [
    "#make logisitc regression classifier\n",
    "lrclf = LogisticRegression()\n",
    "\n",
    "#fit ligistic regression classifier and check accuracy of train data\n",
    "lrclf.fit(train_word_freq25, y_train25)\n",
    "print(\"Logisitic Regression Train Accuracy: \",lrclf.score(train_word_freq25,y_train25))\n",
    "\n",
    "#check accuracy of test data\n",
    "yp_test = lrclf.predict(test_word_freq2)\n",
    "\n",
    "#Write results to csv to submit to Kaggle\n",
    "solutiondf = pd.DataFrame(yp_test, columns = ['Category'], index = test_data['ArticleId'])\n",
    "solutiondf.to_csv(\"solution8.csv\")\n",
    "#solutiondf\n",
    "#Test accuracy from Kaggle: .95102"
   ]
  },
  {
   "cell_type": "code",
   "execution_count": 33,
   "id": "882077c2",
   "metadata": {},
   "outputs": [
    {
     "name": "stdout",
     "output_type": "stream",
     "text": [
      "Support Vector Classifier Train Accuracy:  1.0\n"
     ]
    }
   ],
   "source": [
    "#Make SVM classifier model\n",
    "#Do cross-validation on various kernel, C, and gamma paramter values\n",
    "svm = SVC(kernel = 'rbf',C=0.75,gamma = .75)\n",
    "\n",
    "svm.fit(train_word_freq25, y_train25)\n",
    "print(\"Support Vector Classifier Train Accuracy: \", svm.score(train_word_freq25, y_train25))\n",
    "\n",
    "#check accuracy of test data\n",
    "yp_test = svm.predict(test_word_freq2)\n",
    "\n",
    "#Write results to csv to submit to Kaggle\n",
    "solutiondf = pd.DataFrame(yp_test, columns = ['Category'], index = test_data['ArticleId'])\n",
    "solutiondf.to_csv(\"solution9.csv\")\n",
    "#Test accuracy from Kaggle: .91292"
   ]
  },
  {
   "cell_type": "markdown",
   "id": "01dbc297",
   "metadata": {},
   "source": [
    "# Results\n",
    "|Model Type|Vectorizer Tuned?|NMF Tuned?| 25% of Labeled Data | Train Accuracy| Test Accuracy|\n",
    "|:----|:--------:|:--------:|:--------:|:--------:|:--------:|\n",
    "|Non-negative matrix factorization| N | N | N | 0.877 | 0.878 |\n",
    "|Non-negative matrix factorization| N | Y | N | 0.919 | 0.951 |\n",
    "|Non-negative matrix factorization| Y | N | N | 0.951 | 0.958 |\n",
    "|Non-negative matrix factorization| Y | Y | N | 0.969 | 0.969 |\n",
    "|Logistic Regression| Y | N/A | N | 0.997 | 0.981 |\n",
    "|Random Forest| Y | N/A | N | 0.993 | 0.965 |\n",
    "|Gradient Boosting| Y | N/A | N | 1.0 | 0.971 |\n",
    "|Supprt Vector Calssifier| Y | N/A | N | 0.999 | 0.982 |\n",
    "|Non-negative matrix factorization| Y | Y | Y | 0.969 | 0.959 |\n",
    "|Logistic Regression| Y | N/A | Y | 1.0 | 0.951 |\n",
    "|Supprt Vector Calssifier| Y | N/A | Y | 1.0 | 0.913 |"
   ]
  },
  {
   "cell_type": "markdown",
   "id": "6f55d692",
   "metadata": {},
   "source": [
    "The test accuracies for all models were greater than 87%, showing that all models did a good job at classifying the news articles. For the non-negative matrix factorization, tuning the vectorizer and nmf function parameters made a significant impact as the test accuracy was increased from 87.8% to 96.9%! This shows how critical it is to tune parameters for all models you train.\n",
    "\n",
    "The supervised learning models performed better than the best non-negative matrix factorization (with exception of the random forest test accuracy which performed very slightly worse). This should have been expected. The supervised learning models had the labels and were training their models to correctly predict the training labels. The unsupervised learning models did not use the labels and were just trying to differentiate the word frequencies into 5 different components. If you have labels for training data, it makes logical sense to use them. The labels only provide additional information to the models. However, it is somewhat surprising to see just how well the unsupervised models performed. This shows that in situations where you do not have labels, there are still ways to extract insights from the data. \n",
    "\n",
    "Using only 25% of the labeled data had very little impact on the unsupervised model (matrix factorization). This was expected since the unsupervised model does not use labels until the end. The only reason it uses the labels is to determine what numerical outcome corresponds to which category. It does not need much data to do this, and is very data-efficient in regards to the labels. Using only 25% of the labeled data for the supervised models had a larger negative impact on their test accuracies. They both had 1.0 train accuracies and worse test accuracies showing that they are most likely overfitting the data now. The test accuracies are still high, just not as good as the models that used 100% of the labeled data. If even less labeled data was used (or available) these models would continue to do worse. This is because they rely on the labels to train their models. The less labels there are, the less data there is to train on, and less data can lead to overfitting. "
   ]
  },
  {
   "cell_type": "markdown",
   "id": "9d574d03",
   "metadata": {},
   "source": [
    "# References\n",
    "- https://scikit-learn.org/stable/modules/generated/sklearn.feature_extraction.text.TfidfVectorizer.html#sklearn.feature_extraction.text.TfidfVectorizer\n",
    "- https://scikit-learn.org/stable/modules/generated/sklearn.decomposition.NMF.html\n",
    "- https://cloud.google.com/blog/products/ai-machine-learning/problem-solving-with-ml-automatic-document-classification"
   ]
  },
  {
   "cell_type": "code",
   "execution_count": null,
   "id": "be4865c1",
   "metadata": {},
   "outputs": [],
   "source": []
  }
 ],
 "metadata": {
  "kernelspec": {
   "display_name": "Python 3 (ipykernel)",
   "language": "python",
   "name": "python3"
  },
  "language_info": {
   "codemirror_mode": {
    "name": "ipython",
    "version": 3
   },
   "file_extension": ".py",
   "mimetype": "text/x-python",
   "name": "python",
   "nbconvert_exporter": "python",
   "pygments_lexer": "ipython3",
   "version": "3.10.9"
  }
 },
 "nbformat": 4,
 "nbformat_minor": 5
}
